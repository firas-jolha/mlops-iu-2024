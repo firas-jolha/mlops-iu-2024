{
 "cells": [
  {
   "cell_type": "markdown",
   "metadata": {
    "id": "_RbelOPK4TFB"
   },
   "source": [
    "# business and data understanding\n",
    "------------\n",
    "\n",
    "The initial phase is concerned with tasks to define the business objectives and translate\n",
    "it to ML objectives, to collect and verify the data quality and to finaly assess the project\n",
    "feasibility."
   ]
  },
  {
   "cell_type": "markdown",
   "metadata": {},
   "source": [
    "## Terminology\n",
    "\n",
    "### tasks\n",
    "\n",
    "Compile a glossary of terminology relevant to the project. This may include two components: \n",
    "(1) A glossary of relevant business terminology, which forms part of the business understanding available to the project. Constructing this glossary is a useful \"knowledge elicitation\" and education exercise.\n",
    "(2) A glossary of machine learning terminology, illustrated with examples relevant to the business problem in question.\n",
    "\n",
    "### output\n",
    "\n",
    "#### 1. Terminology\n",
    "A table or paragraph contains all the business or ML related terms used in the project."
   ]
  },
  {
   "cell_type": "markdown",
   "metadata": {
    "id": "Wfrdzmhe0Zfr"
   },
   "source": [
    "## Scope of the project\n",
    "----------\n",
    "\n",
    "### tasks\n",
    "- Explore the background of the business.\n",
    "- Define business objectives\n",
    "- Translate business objectives into ML objectives\n",
    "\n",
    "The first objective of is to thoroughly understand, from a business perspective, what the client really wants to accomplish. Often the client has many competing objectives and constraints that must be properly balanced. The goal is to uncover important factors, at the beginning, that can influence the outcome of the project. A possible consequence of neglecting this step is to expend a great deal of effort producing the right answers to the wrong questions.\n",
    "\n",
    "### output\n",
    "\n",
    "#### 1. background\n",
    "\n",
    "A short paragraph to record the information that is known about the organization's business situation at the beginning of the project.\n",
    "\n",
    "#### 2. business objectives \n",
    "\n",
    "A list of business objectives which describes the customer's primary objective, from a business perspective. In addition to the primary business objective, there are typically other related business questions that the customer would like to address. For example, the primary business goal might be to keep current customers by predicting when they are prone to move to a competitor. Examples of related business questions are \"How does the primary channel (e.g., ATM, visit branch, internet) a bank customer uses affect whether they stay or go?\" or \"Will lower ATM fees significantly reduce the number of high-value customers who leave?\"\n",
    "\n",
    "#### 3. ML objectives\n",
    "\n",
    "A list of business objectives which describes the intended outputs of the project that enables the achievement of the business objectives."
   ]
  },
  {
   "cell_type": "markdown",
   "metadata": {},
   "source": [
    "## Success Criteria\n",
    "-------------\n",
    "\n",
    "### tasks\n",
    "- Describe the success criteria of the ML project on three different levels: the business success criteria, the ML success criteria and the economic success criteria.\n",
    "\n",
    "### output\n",
    "\n",
    "#### 1. Business success criteria\n",
    "A list of criteria  from a business point of view. For example, if an ML application is planned for a quality check in production and is supposed to outperform the current manual failure rate of 3%, the business success criterion could be derived as e.g. \"failure rate less than 3%\"\n",
    "\n",
    "#### 2. ML success criteria\n",
    "A list of criteria for a successful outcome to the project in technical terms, for example a certain level of predictive accuracy or a propensity to purchase profile with a given degree of \"lift.\" As with business success criteria, it may be necessary to describe these in subjective terms, in which case the person or persons making the subjective judgment should be identified."
   ]
  },
  {
   "cell_type": "markdown",
   "metadata": {},
   "source": [
    "## Data collection\n",
    "\n",
    "### tasks\n",
    "- Specify the data sources\n",
    "- Collect the data\n",
    "- Version control on the data\n",
    "\n",
    "### output\n",
    "\n",
    "#### 1. Data collection report\n",
    "A paragraph to describe the data sources and how you want to collec the data.\n",
    "\n",
    "#### 2. Data version control\n",
    "A paragraph to explain how you want to perform data versioning and achieve reproducibility of the results."
   ]
  },
  {
   "cell_type": "markdown",
   "metadata": {},
   "source": [
    "## Data quality verification\n",
    "\n",
    "### tasks\n",
    "- Describe data\n",
    "- Define data requirements\n",
    "- Verify the data quality\n",
    "\n",
    "### output\n",
    "\n",
    "#### 1. Data description report\n",
    "A paragraph to describe the data and all its features.\n",
    "\n",
    "#### 1. Data quality report\n",
    "A paragraph to check and report the quality of the data."
   ]
  },
  {
   "cell_type": "markdown",
   "metadata": {
    "id": "AZCQA0YfF1Yq"
   },
   "source": [
    "## Project feasibility \n",
    "-------------\n",
    "This task involves more detailed fact-finding about all of the resources,constraints, assumptions and other factors that should be considered in determining the data analysis goal and project plan. In the previous task, your objective is to quickly get to the crux of the situation. Here, you want to flesh out the details.\n",
    "\n",
    "### tasks\n",
    "- Assess the project feasibility\n",
    "- Create POC (Proof-of-concept) model\n",
    "\n",
    "### output\n",
    "\n",
    "#### 1. inventory of resources\n",
    "\n",
    "List the resources available to the project, including: personnel (business experts, data experts, technical support, machine learning personnel), data (fixed extracts, access to live warehoused or operational data), computing resources (hardware platforms) and software (machine learning tools, other relevant software).\n",
    "\n",
    "#### 2. Requirements, assumptions and constraints\n",
    "\n",
    "List all requirements of the project including schedule of completion, comprehensibility and quality of results and security as well as legal issues.As part of this output, make sure that you are allowed to use the data. List the assumptions made by the project. \n",
    "\n",
    "These may be assumptions about the data that can be checked during machine learning, but may also include non-checkable assumptions about the business upon which the project rests. It is particularly important to list the latter if they form conditions on the validity of the results.\n",
    "\n",
    "List the constraints on the project. These may be constraints on the availability of resources, but may also include technological constraints such as the size of data that it is practical to use for modeling.\n",
    "\n",
    "#### 3. Risks and contingencies \n",
    "\n",
    "List the risks or events that might occur to delay the project or cause it to fail. List the corresponding contingency plans; what action will be taken if the risks happen.\n",
    "\n",
    "\n",
    "#### 4. Costs and benefits\n",
    "\n",
    "Construct a cost-benefit analysis for the project, which compares the costs of the project with the potential benefit to the business if it is successful. The comparison should be as specific as possible, for example using monetary measures in a commercial situation.\n",
    "\n",
    "\n",
    "#### 5. Feasibility report\n",
    "\n",
    "Build a POC ML model and explain as a team whether it is feasible to do this ML project or not. If not, then you need to find another business problem. They key factors here are related to data availability, quality and nature of business problem."
   ]
  },
  {
   "cell_type": "markdown",
   "metadata": {},
   "source": [
    "## produce project plan\n",
    "----------------\n",
    "\n",
    "### task\n",
    "\n",
    "Describe the intended plan for achieving the machine learning goals and thereby achieving the business goals. The plan should specify the anticipated set of steps to be performed during the rest of the project including an initial selection of tools and techniques.\n",
    "\n",
    "### output\n",
    "\n",
    "#### 1. Project plan\n",
    "List the stages to be executed in the project, together with their duration, resources required, inputs, outputs, and dependencies. Where possible, try and make explicit the large-scale iterations in the machine learning process, for example, repetitions of the modeling and evaluation phases. As part of the project plan, it is also important to analyze dependencies between time schedule and risks. Mark results of these analyses explicitly in the project plan, ideally with actions and recommendations if the risks are manifested. Decide at this point which evaluation strategy will be used in the evaluation phase. Your project plan will be a dynamic document. At the end of each phase you’ll review progress and achievements and update the project plan accordingly. Specific review points for these updates should be part of the project plan.\n",
    "\n",
    "#### 2. ML project Canvas\n",
    "At the end of the first phase, you should create a canvas for the project as a summary of this phase. "
   ]
  }
 ],
 "metadata": {
  "colab": {
   "authorship_tag": "ABX9TyP0tcb9vN+g/E9NCP5Xbry9",
   "collapsed_sections": [],
   "name": "business-understanding.ipynb",
   "provenance": []
  },
  "kernelspec": {
   "display_name": "Python 3 (ipykernel)",
   "language": "python",
   "name": "python3"
  },
  "language_info": {
   "codemirror_mode": {
    "name": "ipython",
    "version": 3
   },
   "file_extension": ".py",
   "mimetype": "text/x-python",
   "name": "python",
   "nbconvert_exporter": "python",
   "pygments_lexer": "ipython3",
   "version": "3.12.0"
  }
 },
 "nbformat": 4,
 "nbformat_minor": 4
}
